{
  "nbformat": 4,
  "nbformat_minor": 0,
  "metadata": {
    "colab": {
      "provenance": [],
      "name": "Email-Extractor.ipynb",
      "authorship_tag": "ABX9TyOzZS46Vipss4qiI2Sh2Guu",
      "include_colab_link": true
    },
    "kernelspec": {
      "name": "python3",
      "display_name": "Python 3"
    },
    "language_info": {
      "name": "python"
    }
  },
  "cells": [
    {
      "cell_type": "markdown",
      "metadata": {
        "id": "view-in-github",
        "colab_type": "text"
      },
      "source": [
        "<a href=\"https://colab.research.google.com/github/ahmadjabali/Email-Extractor-to-CSV/blob/main/Email_Extractor.ipynb\" target=\"_parent\"><img src=\"https://colab.research.google.com/assets/colab-badge.svg\" alt=\"Open In Colab\"/></a>"
      ]
    },
    {
      "cell_type": "code",
      "execution_count": null,
      "metadata": {
        "id": "qklb1UiOdtf5"
      },
      "outputs": [],
      "source": [
        "import re\n",
        "import csv\n",
        "\n",
        "def extract_emails(text):\n",
        "    # Define the email pattern\n",
        "    email_pattern = r'[a-zA-Z0-9._%+-]+@[a-zA-Z0-9.-]+\\.[a-zA-Z]{2,}'\n",
        "\n",
        "    # Use re.findall() to find all emails in the text\n",
        "    emails = re.findall(email_pattern, text)\n",
        "\n",
        "    return emails\n",
        "input_text = input(\"Enter the text to extract emails from: \")\n",
        "\n",
        "# Extract emails from the input text\n",
        "extracted_emails = extract_emails(input_text)\n",
        "\n",
        "# Print the extracted emails\n",
        "print(\"Extracted emails:\")\n",
        "for email in extracted_emails:\n",
        "    print(email)\n",
        "\n",
        "csv_file_name = 'Mokat_emails.csv'\n",
        "\n",
        "# Save the extracted emails to a CSV file\n",
        "with open(csv_file_name, mode='w', newline='') as file:\n",
        "    writer = csv.writer(file)\n",
        "    writer.writerow(['Email'])  # Write the header\n",
        "    for email in extracted_emails:\n",
        "        writer.writerow([email])\n",
        "\n",
        "print(f\"Extracted emails have been saved to {csv_file_name}\")"
      ]
    },
    {
      "cell_type": "code",
      "source": [],
      "metadata": {
        "colab": {
          "base_uri": "https://localhost:8080/"
        },
        "id": "iAuMz08udyIK",
        "outputId": "9da807e1-2b72-464e-f4f2-4d0a7bd5ac97"
      },
      "execution_count": null,
      "outputs": [
        {
          "output_type": "stream",
          "name": "stdout",
          "text": [
            "Enter the text to extract emails from: Here are some emails to test: - john.doe@example.com - jane_smith123@company.co.uk - invalid-email@.com - another.email@domain.com  Thank you\n",
            "Extracted emails:\n",
            "john.doe@example.com\n",
            "jane_smith123@company.co.uk\n",
            "another.email@domain.com\n",
            "Extracted emails have been saved to Mokat_emails.csv\n"
          ]
        }
      ]
    },
    {
      "cell_type": "code",
      "source": [],
      "metadata": {
        "id": "2onTANSHeNwX"
      },
      "execution_count": null,
      "outputs": []
    },
    {
      "cell_type": "code",
      "source": [],
      "metadata": {
        "colab": {
          "base_uri": "https://localhost:8080/"
        },
        "id": "QH0YT4r4eOYz",
        "outputId": "604a2dab-e7df-4f74-ed66-bb9b1b768fbd"
      },
      "execution_count": null,
      "outputs": [
        {
          "output_type": "stream",
          "name": "stdout",
          "text": [
            "Extracted emails have been saved to Mokat_emails.csv\n"
          ]
        }
      ]
    },
    {
      "cell_type": "code",
      "source": [],
      "metadata": {
        "id": "yRMdb5dPePci"
      },
      "execution_count": null,
      "outputs": []
    }
  ]
}