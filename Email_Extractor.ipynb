{
  "nbformat": 4,
  "nbformat_minor": 0,
  "metadata": {
    "colab": {
      "provenance": [],
      "name": "Email-Extractor.ipynb",
      "authorship_tag": "ABX9TyNoH30Umt5VYaDqOK74Q9qU",
      "include_colab_link": true
    },
    "kernelspec": {
      "name": "python3",
      "display_name": "Python 3"
    },
    "language_info": {
      "name": "python"
    }
  },
  "cells": [
    {
      "cell_type": "markdown",
      "metadata": {
        "id": "view-in-github",
        "colab_type": "text"
      },
      "source": [
        "<a href=\"https://colab.research.google.com/github/ahmadjabali/Email-Extractor-to-CSV/blob/main/Email_Extractor.ipynb\" target=\"_parent\"><img src=\"https://colab.research.google.com/assets/colab-badge.svg\" alt=\"Open In Colab\"/></a>"
      ]
    },
    {
      "cell_type": "code",
      "execution_count": null,
      "metadata": {
        "id": "qklb1UiOdtf5"
      },
      "outputs": [],
      "source": [
        "import re\n",
        "import csv\n",
        "\n",
        "def extract_emails(text):\n",
        "\n",
        "    email_pattern = r'[a-zA-Z0-9._%+-]+@[a-zA-Z0-9.-]+\\.[a-zA-Z]{2,}'\n",
        "\n",
        "\n",
        "    emails = re.findall(email_pattern, text)\n",
        "\n",
        "    return emails\n",
        "input_text = input(\"Enter the text to extract emails from: \")\n",
        "\n",
        "extracted_emails = extract_emails(input_text)\n",
        "\n",
        "\n",
        "print(\"Extracted emails:\")\n",
        "for email in extracted_emails:\n",
        "    print(email)\n",
        "\n",
        "csv_file_name = 'extracted_emails.csv'\n",
        "\n",
        "\n",
        "with open(csv_file_name, mode='w', newline='') as file:\n",
        "    writer = csv.writer(file)\n",
        "    writer.writerow(['Email'])\n",
        "    for email in extracted_emails:\n",
        "        writer.writerow([email])\n",
        "\n",
        "print(f\"Extracted emails have been saved to {csv_file_name}\")"
      ]
    }
  ]
}